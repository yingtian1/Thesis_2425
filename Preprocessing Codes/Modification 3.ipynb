{
 "cells": [
  {
   "cell_type": "code",
   "execution_count": 1,
   "metadata": {},
   "outputs": [],
   "source": [
    "import pandas as pd\n",
    "import re\n",
    "import numpy as np"
   ]
  },
  {
   "cell_type": "code",
   "execution_count": null,
   "metadata": {},
   "outputs": [
    {
     "data": {
      "text/plain": [
       "63"
      ]
     },
     "execution_count": 15,
     "metadata": {},
     "output_type": "execute_result"
    }
   ],
   "source": [
    "sc = pd.read_excel(\"coal_supply_chain_india_updated.xlsx\", sheet_name=\"supply chain\")\n",
    "unique_suppliers = sc['supplier'].unique().tolist()\n",
    "unique_clients = sc['client'].unique().tolist()\n",
    "\n",
    "firm = sorted(set(unique_suppliers + unique_clients))\n",
    "len(firm)"
   ]
  },
  {
   "cell_type": "code",
   "execution_count": null,
   "metadata": {},
   "outputs": [],
   "source": [
    "ownership = pd.read_excel(\"coal_supply_chain_india_updated.xlsx\", sheet_name=\"ownership\")\n",
    "firms = pd.read_excel(\"coal_supply_chain_india_updated.xlsx\", sheet_name=\"firms\")\n",
    "ownership_filtered =  ownership[ownership['firm_id'].isin(firm)]\n",
    "firms_filtered = firms[firms['firm_id'].isin(firm)]\n",
    "with pd.ExcelWriter('coal_supply_chain_india_updated2.xlsx',\n",
    "                    mode='a', if_sheet_exists='replace') as writer:\n",
    "    ownership_filtered.to_excel(writer, sheet_name='ownership', index=False)\n",
    "    firms_filtered.to_excel(writer, sheet_name='firms', index=False)"
   ]
  }
 ],
 "metadata": {
  "kernelspec": {
   "display_name": "myenv",
   "language": "python",
   "name": "python3"
  },
  "language_info": {
   "codemirror_mode": {
    "name": "ipython",
    "version": 3
   },
   "file_extension": ".py",
   "mimetype": "text/x-python",
   "name": "python",
   "nbconvert_exporter": "python",
   "pygments_lexer": "ipython3",
   "version": "3.12.2"
  }
 },
 "nbformat": 4,
 "nbformat_minor": 2
}
